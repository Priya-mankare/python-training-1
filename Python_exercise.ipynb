{
  "nbformat": 4,
  "nbformat_minor": 0,
  "metadata": {
    "colab": {
      "name": "Python exercise",
      "provenance": [],
      "collapsed_sections": [],
      "include_colab_link": true
    },
    "kernelspec": {
      "name": "python3",
      "display_name": "Python 3"
    }
  },
  "cells": [
    {
      "cell_type": "markdown",
      "metadata": {
        "id": "view-in-github",
        "colab_type": "text"
      },
      "source": [
        "<a href=\"https://colab.research.google.com/github/Priya-mankare/python-training-1/blob/master/Python_exercise.ipynb\" target=\"_parent\"><img src=\"https://colab.research.google.com/assets/colab-badge.svg\" alt=\"Open In Colab\"/></a>"
      ]
    },
    {
      "cell_type": "code",
      "metadata": {
        "id": "80RXqjRd0vpr",
        "colab_type": "code",
        "colab": {}
      },
      "source": [
        "a=20\n",
        "b=30\n",
        "C=a+b\n",
        "print(C)"
      ],
      "execution_count": 0,
      "outputs": []
    },
    {
      "cell_type": "markdown",
      "metadata": {
        "id": "VFaQNjpfaiP9",
        "colab_type": "text"
      },
      "source": [
        ""
      ]
    },
    {
      "cell_type": "code",
      "metadata": {
        "id": "vAH_dcePajIc",
        "colab_type": "code",
        "colab": {}
      },
      "source": [
        ""
      ],
      "execution_count": 0,
      "outputs": []
    },
    {
      "cell_type": "code",
      "metadata": {
        "id": "sD1T0sjcakWN",
        "colab_type": "code",
        "outputId": "7ae388ef-028a-4421-e956-ecd0e64c1402",
        "colab": {
          "base_uri": "https://localhost:8080/",
          "height": 34
        }
      },
      "source": [
        "a=90\n",
        "b=90\n",
        "if (a>b):\n",
        "  print(\"a is greater than b\")\n",
        "\n",
        "elif(a==b):\n",
        "  print(\"a equals to b\")\n",
        "\n",
        "else:\n",
        "  print(\"b is greater than a\")"
      ],
      "execution_count": 0,
      "outputs": [
        {
          "output_type": "stream",
          "text": [
            "a equals to b\n"
          ],
          "name": "stdout"
        }
      ]
    },
    {
      "cell_type": "code",
      "metadata": {
        "id": "tYrkEF6UzrNl",
        "colab_type": "code",
        "outputId": "bcbe85bd-955c-4b81-eb77-24f16f99df9a",
        "colab": {
          "base_uri": "https://localhost:8080/",
          "height": 34
        }
      },
      "source": [
        "#THIS IS COMMENT\n",
        "#pRCTICING COMMENT\n",
        "#hashtag comment practice\n",
        "a = 150\n",
        "b = 20\n",
        "if (a>b): print(\"a is greater than b\")\n",
        "elif (a==b): print(\"a equals to b\")\n",
        "else: print(\"b is greater than a\")"
      ],
      "execution_count": 0,
      "outputs": [
        {
          "output_type": "stream",
          "text": [
            "a is greater than b\n"
          ],
          "name": "stdout"
        }
      ]
    },
    {
      "cell_type": "code",
      "metadata": {
        "id": "LxMuUCvw2j4G",
        "colab_type": "code",
        "outputId": "da06fd9a-b3e7-469f-d099-e9b12f833a1b",
        "colab": {
          "base_uri": "https://localhost:8080/",
          "height": 34
        }
      },
      "source": [
        "\"\"\"\n",
        "Practicing comment\n",
        "\n",
        "\"\"\"\n",
        "v=90\n",
        "X=98\n",
        "d=v-X\n",
        "print(d)\n"
      ],
      "execution_count": 0,
      "outputs": [
        {
          "output_type": "stream",
          "text": [
            "-8\n"
          ],
          "name": "stdout"
        }
      ]
    },
    {
      "cell_type": "code",
      "metadata": {
        "id": "Q4Twyn0NFBdr",
        "colab_type": "code",
        "outputId": "d2a9950c-30d1-443e-bdd7-926158dd3d97",
        "colab": {
          "base_uri": "https://localhost:8080/",
          "height": 34
        }
      },
      "source": [
        "print(10<9)\n"
      ],
      "execution_count": 0,
      "outputs": [
        {
          "output_type": "stream",
          "text": [
            "False\n"
          ],
          "name": "stdout"
        }
      ]
    },
    {
      "cell_type": "code",
      "metadata": {
        "id": "15loPSkbFVYL",
        "colab_type": "code",
        "outputId": "d26b0ab8-61ce-45da-ae6b-65001cca8d9b",
        "colab": {
          "base_uri": "https://localhost:8080/",
          "height": 34
        }
      },
      "source": [
        "print(10==9)"
      ],
      "execution_count": 0,
      "outputs": [
        {
          "output_type": "stream",
          "text": [
            "False\n"
          ],
          "name": "stdout"
        }
      ]
    },
    {
      "cell_type": "code",
      "metadata": {
        "id": "7cJB1HQuFfW9",
        "colab_type": "code",
        "outputId": "f5e014dc-efe0-4ebc-855e-f9f14790c5ac",
        "colab": {
          "base_uri": "https://localhost:8080/",
          "height": 34
        }
      },
      "source": [
        "print(10>9)"
      ],
      "execution_count": 0,
      "outputs": [
        {
          "output_type": "stream",
          "text": [
            "True\n"
          ],
          "name": "stdout"
        }
      ]
    },
    {
      "cell_type": "code",
      "metadata": {
        "id": "J5DSHojSIoZ1",
        "colab_type": "code",
        "outputId": "87bbe8aa-6617-4e27-d9a4-a319e4f5a5cf",
        "colab": {
          "base_uri": "https://localhost:8080/",
          "height": 34
        }
      },
      "source": [
        "print(bool(\"abc\"))"
      ],
      "execution_count": 0,
      "outputs": [
        {
          "output_type": "stream",
          "text": [
            "True\n"
          ],
          "name": "stdout"
        }
      ]
    },
    {
      "cell_type": "code",
      "metadata": {
        "id": "zZDZrto9I9Br",
        "colab_type": "code",
        "outputId": "78e9c87c-cfb1-4786-dc3b-31df0425d22e",
        "colab": {
          "base_uri": "https://localhost:8080/",
          "height": 34
        }
      },
      "source": [
        "print(bool(0))"
      ],
      "execution_count": 0,
      "outputs": [
        {
          "output_type": "stream",
          "text": [
            "False\n"
          ],
          "name": "stdout"
        }
      ]
    },
    {
      "cell_type": "code",
      "metadata": {
        "id": "ZZFS5IF58hLz",
        "colab_type": "code",
        "outputId": "f8cc7fd1-26ca-4480-ec22-e680711cd9fd",
        "colab": {
          "base_uri": "https://localhost:8080/",
          "height": 67
        }
      },
      "source": [
        "x,y,z= \"Orange\",\"Banana\",\"Cherry\"\n",
        "print (y)\n",
        "print (z)\n",
        "print (x)"
      ],
      "execution_count": 0,
      "outputs": [
        {
          "output_type": "stream",
          "text": [
            "Banana\n",
            "Cherry\n",
            "Orange\n"
          ],
          "name": "stdout"
        }
      ]
    },
    {
      "cell_type": "code",
      "metadata": {
        "id": "67QefT5n9hzq",
        "colab_type": "code",
        "outputId": "c9ab3b6e-2c32-407f-d0bf-5eedeef27327",
        "colab": {
          "base_uri": "https://localhost:8080/",
          "height": 34
        }
      },
      "source": [
        "a=50\n",
        "b=100\n",
        "print (a+b)"
      ],
      "execution_count": 0,
      "outputs": [
        {
          "output_type": "stream",
          "text": [
            "150\n"
          ],
          "name": "stdout"
        }
      ]
    },
    {
      "cell_type": "code",
      "metadata": {
        "id": "rHaKemsQ9uUi",
        "colab_type": "code",
        "outputId": "036f0aec-2450-4261-9f77-9f51f5fe61cb",
        "colab": {
          "base_uri": "https://localhost:8080/",
          "height": 195
        }
      },
      "source": [
        "a=\"priyanka\"\n",
        "b=\"dilip\"\n",
        "c=\"Mankare\"\n",
        "print(a+b+c)"
      ],
      "execution_count": 0,
      "outputs": [
        {
          "output_type": "error",
          "ename": "TypeError",
          "evalue": "ignored",
          "traceback": [
            "\u001b[0;31m---------------------------------------------------------------------------\u001b[0m",
            "\u001b[0;31mTypeError\u001b[0m                                 Traceback (most recent call last)",
            "\u001b[0;32m<ipython-input-51-95c7d471ec72>\u001b[0m in \u001b[0;36m<module>\u001b[0;34m()\u001b[0m\n\u001b[1;32m      2\u001b[0m \u001b[0mb\u001b[0m\u001b[0;34m=\u001b[0m\u001b[0;34m\"dilip\"\u001b[0m\u001b[0;34m\u001b[0m\u001b[0;34m\u001b[0m\u001b[0m\n\u001b[1;32m      3\u001b[0m \u001b[0mc\u001b[0m\u001b[0;34m=\u001b[0m\u001b[0;34m\"Mankare\"\u001b[0m\u001b[0;34m\u001b[0m\u001b[0;34m\u001b[0m\u001b[0m\n\u001b[0;32m----> 4\u001b[0;31m \u001b[0mprint\u001b[0m\u001b[0;34m(\u001b[0m\u001b[0ma\u001b[0m\u001b[0;34m+\u001b[0m\u001b[0mb\u001b[0m\u001b[0;34m+\u001b[0m\u001b[0mc\u001b[0m\u001b[0;34m)\u001b[0m\u001b[0;34m\u001b[0m\u001b[0;34m\u001b[0m\u001b[0m\n\u001b[0m",
            "\u001b[0;31mTypeError\u001b[0m: 'str' object is not callable"
          ]
        }
      ]
    },
    {
      "cell_type": "code",
      "metadata": {
        "id": "PlpTB12nxjya",
        "colab_type": "code",
        "colab": {}
      },
      "source": [
        "# Code to read csv file into colaboratory:\n",
        "!pip install -U -q PyDrive\n",
        "from pydrive.auth import GoogleAuth\n",
        "from pydrive.drive import GoogleDrive\n",
        "from google.colab import auth\n",
        "from oauth2client.client import GoogleCredentials\n",
        "\n",
        "# 1. Authenticate and create the PyDrive client.\n",
        "auth.authenticate_user()\n",
        "gauth = GoogleAuth()\n",
        "gauth.credentials = GoogleCredentials.get_application_default()\n",
        "drive = GoogleDrive(gauth)\n",
        "\n",
        "#2. Get the file\n",
        "downloaded = drive.CreateFile({'id':'1IP-HXQ9QtPFew82KOU3JdbVecr190wrr'}) # replace the id with id of file you want to access\n",
        "downloaded.GetContentFile('Newgendefects30082018.csv')\n",
        "\n",
        "#3. Read file as panda dataframe\n",
        "import pandas as pd\n",
        "PM = pd.read_csv('Newgendefects30082018.csv')"
      ],
      "execution_count": 0,
      "outputs": []
    },
    {
      "cell_type": "markdown",
      "metadata": {
        "id": "ZeaAcIV_v60_",
        "colab_type": "text"
      },
      "source": [
        ""
      ]
    },
    {
      "cell_type": "code",
      "metadata": {
        "id": "0qBbT6PO4BUn",
        "colab_type": "code",
        "outputId": "b9555fe6-e219-4bb4-a3bb-6acd8f28a002",
        "colab": {
          "base_uri": "https://localhost:8080/",
          "height": 235
        }
      },
      "source": [
        "PM.info()"
      ],
      "execution_count": 0,
      "outputs": [
        {
          "output_type": "stream",
          "text": [
            "<class 'pandas.core.frame.DataFrame'>\n",
            "RangeIndex: 16 entries, 0 to 15\n",
            "Data columns (total 8 columns):\n",
            "Bug ID        16 non-null int64\n",
            "Product       16 non-null object\n",
            "Component     16 non-null object\n",
            "Assignee      16 non-null object\n",
            "Status        16 non-null object\n",
            "Resolution    16 non-null object\n",
            "Summary       16 non-null object\n",
            "Changed       16 non-null object\n",
            "dtypes: int64(1), object(7)\n",
            "memory usage: 1.1+ KB\n"
          ],
          "name": "stdout"
        }
      ]
    },
    {
      "cell_type": "code",
      "metadata": {
        "id": "gTuPG7_qxRb_",
        "colab_type": "code",
        "colab": {
          "base_uri": "https://localhost:8080/",
          "height": 50
        },
        "outputId": "c84dee0f-e078-4873-b510-b28d8454329e"
      },
      "source": [
        "import datetime\n",
        "print(datetime.datetime.now)\n",
        "print(datetime.datetime.now().strftime(\"%Y-%m-%d %H:%M:%S\"))\n"
      ],
      "execution_count": 12,
      "outputs": [
        {
          "output_type": "stream",
          "text": [
            "<built-in method now of type object at 0xa33e60>\n",
            "2020-01-30 09:27:47\n"
          ],
          "name": "stdout"
        }
      ]
    },
    {
      "cell_type": "code",
      "metadata": {
        "id": "bYAf1XjIv96b",
        "colab_type": "code",
        "colab": {
          "base_uri": "https://localhost:8080/",
          "height": 84
        },
        "outputId": "62c5a2b2-232e-4857-b758-1eef3f57357c"
      },
      "source": [
        "print(\"Johny Johny\\n\\t Yes Papa\\n\\t Eating Sugar\\n\\t\\t No papa\")"
      ],
      "execution_count": 4,
      "outputs": [
        {
          "output_type": "stream",
          "text": [
            "Johny Johny\n",
            "\t Yes Papa\n",
            "\t Eating Sugar\n",
            "\t\t No papa\n"
          ],
          "name": "stdout"
        }
      ]
    },
    {
      "cell_type": "code",
      "metadata": {
        "id": "ONxjSov41O4G",
        "colab_type": "code",
        "colab": {
          "base_uri": "https://localhost:8080/",
          "height": 34
        },
        "outputId": "399612b2-8959-43d6-8bb7-8419d0df7030"
      },
      "source": [
        "Fruit_name=[\"Mango\",\"Banana\",\"Papaya\",\"Gvava\"]\n",
        "print(Fruit_name[2],Fruit_name[-2])"
      ],
      "execution_count": 16,
      "outputs": [
        {
          "output_type": "stream",
          "text": [
            "Papaya Papaya\n"
          ],
          "name": "stdout"
        }
      ]
    },
    {
      "cell_type": "code",
      "metadata": {
        "id": "iv7YOXG42zrL",
        "colab_type": "code",
        "colab": {
          "base_uri": "https://localhost:8080/",
          "height": 185
        },
        "outputId": "10a56d4a-c77d-4c7a-aefe-b51a39a252ee"
      },
      "source": [
        "import calendar\n",
        "month= int(input(\"Enter Month :\"))\n",
        "year= int(input(\"Enter Year :\"))\n",
        "print(calendar.month(yyear,mmonth))"
      ],
      "execution_count": 21,
      "outputs": [
        {
          "output_type": "stream",
          "text": [
            "Enter Month :09\n",
            "Enter Year :2020\n",
            "    January 2020\n",
            "Mo Tu We Th Fr Sa Su\n",
            "       1  2  3  4  5\n",
            " 6  7  8  9 10 11 12\n",
            "13 14 15 16 17 18 19\n",
            "20 21 22 23 24 25 26\n",
            "27 28 29 30 31\n",
            "\n"
          ],
          "name": "stdout"
        }
      ]
    },
    {
      "cell_type": "code",
      "metadata": {
        "id": "jdv9XRof1Omi",
        "colab_type": "code",
        "colab": {
          "base_uri": "https://localhost:8080/",
          "height": 34
        },
        "outputId": "bc158f32-385b-426d-9ea5-34ab9e04110a"
      },
      "source": [
        "pi= 3.142\n",
        "r=60.50\n",
        "Area_of_circle=pi*r*r\n",
        "print(Area_of_circle)\n"
      ],
      "execution_count": 34,
      "outputs": [
        {
          "output_type": "stream",
          "text": [
            "11500.505500000001\n"
          ],
          "name": "stdout"
        }
      ]
    },
    {
      "cell_type": "code",
      "metadata": {
        "id": "XtwpP-pJ6Jbl",
        "colab_type": "code",
        "colab": {
          "base_uri": "https://localhost:8080/",
          "height": 34
        },
        "outputId": "374e7a63-a2d4-4ebd-86e7-f955a0c8a8a6"
      },
      "source": [
        "a=10\n",
        "b=6\n",
        "if a > b :\n",
        "    print(\"a is greater than b\")\n",
        "elif a==b:\n",
        "        print(\"a equals to b\")\n",
        "else:\n",
        "    print(\"b is greater than a \")"
      ],
      "execution_count": 45,
      "outputs": [
        {
          "output_type": "stream",
          "text": [
            "a is greater than b\n"
          ],
          "name": "stdout"
        }
      ]
    },
    {
      "cell_type": "code",
      "metadata": {
        "id": "Fpy77FBz8RIe",
        "colab_type": "code",
        "colab": {}
      },
      "source": [
        ""
      ],
      "execution_count": 0,
      "outputs": []
    }
  ]
}